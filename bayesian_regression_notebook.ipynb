{
 "cells": [
  {
   "cell_type": "markdown",
   "id": "51aec65f-26e1-4dd3-9b99-2f2e8d9a113c",
   "metadata": {},
   "source": [
    "# Bayesian regression"
   ]
  },
  {
   "cell_type": "code",
   "execution_count": 1,
   "id": "3e0218fb-378b-4f16-bf8a-27a9feae8a70",
   "metadata": {},
   "outputs": [],
   "source": [
    "import numpy as np\n",
    "from scipy.stats import multivariate_normal\n",
    "import matplotlib.pyplot as plt\n",
    "import seaborn as sns\n",
    "sns.set_theme()"
   ]
  },
  {
   "cell_type": "markdown",
   "id": "3649aa76-8a88-453f-bfa9-9abb32acb6a2",
   "metadata": {},
   "source": [
    "## Question 1\n",
    ">Let us consider the Bayesian regression model\n",
    "$$y = \\Phi_x w + \\epsilon,$$\n",
    "where $w \\sim \\mathcal N(0, \\alpha^{-1} I_2)$ and $\\epsilon | w \\sim \\mathcal N(0, \\beta^{-1} I_n)$, with $\\alpha=0.1$, $\\beta=5$, $n=2$.\n",
    "Here, for $i = 1, \\dots, n$, the $i^\\text{th}$ row of $\\Phi_x$ is $\\phi(x_i) = [\\sin(x_i), 1]$, where $x_1, \\dots, x_n \\overset{i.i.d.}{\\sim} \\mathcal U([0, 2\\pi])$.\n",
    ">\n",
    ">Write a function `phi(x)` that returns $\\Phi_x$ for `x=`$(x_1, \\dots, x_n)$."
   ]
  },
  {
   "cell_type": "code",
   "execution_count": 6,
   "id": "2991ea28-b8f4-4118-b055-666883642f99",
   "metadata": {},
   "outputs": [],
   "source": [
    "# Answer\n",
    "def phi(x):\n",
    "    \n",
    "    phi = np.sin(x)\n",
    "    \n",
    "    phi = np.vstack((phi, np.ones(x.shape[0])))\n",
    "    \n",
    "    return phi\n",
    "    \n",
    "    \n",
    "                "
   ]
  },
  {
   "cell_type": "markdown",
   "id": "3d4d3be8-c66f-438c-adc7-8a5cf1ef910f",
   "metadata": {},
   "source": [
    "## Question 2\n",
    "> Sample $y$ according to the Bayesian model described previously.\n",
    "Plot the on the same figure:\n",
    ">1. the graph of the function $x' \\in [0, 2\\pi] \\mapsto \\phi(x')w$;\n",
    ">1. the observations $y_1, \\dots, y_n$ against $x_1, \\dots, x_n$."
   ]
  },
  {
   "cell_type": "code",
   "execution_count": 23,
   "id": "3a316d93-8276-4395-8e4b-3d016616efa7",
   "metadata": {},
   "outputs": [
    {
     "data": {
      "text/plain": [
       "<matplotlib.collections.PathCollection at 0x24372ce77c0>"
      ]
     },
     "execution_count": 23,
     "metadata": {},
     "output_type": "execute_result"
    },
    {
     "data": {
      "image/png": "[encoded data removed]",
      "text/plain": [
       "<Figure size 432x288 with 1 Axes>"
      ]
     },
     "metadata": {},
     "output_type": "display_data"
    }
   ],
   "source": [
    "# Answer\n",
    "def sample():\n",
    "    x = np.random.uniform(0,2*np.pi, 100)\n",
    "    w = np.random.normal(loc = 0, scale = (1/np.sqrt(0.1)), size = 2)\n",
    "    a = phi(x).T@w\n",
    "    y = a + np.random.normal(0,1/np.sqrt(5),x.shape[0])\n",
    "    return x,y,a\n",
    "\n",
    "x,y,phi_w = sample()\n",
    "\n",
    "\n",
    "fig, ax = plt.subplots()\n",
    "ax.scatter(x,y)\n",
    "ax.scatter(x, phi_w)"
   ]
  },
  {
   "cell_type": "markdown",
   "id": "4d33ccad-2408-4460-8eec-cc8abc0886c1",
   "metadata": {},
   "source": [
    "## Question 3\n",
    ">Compute the Bayesian estimator/predictor $x_{\\mathrm{new}} \\mapsto \\hat{y}^{\\mathcal{D}}(x_{\\mathrm{new}})$."
   ]
  },
  {
   "cell_type": "code",
   "execution_count": 40,
   "id": "723ac32c-4ecd-4f31-90b8-3d02c154c935",
   "metadata": {},
   "outputs": [
    {
     "data": {
      "text/plain": [
       "<matplotlib.collections.PathCollection at 0x2437223c520>"
      ]
     },
     "execution_count": 40,
     "metadata": {},
     "output_type": "execute_result"
    },
    {
     "data": {
      "image/png": "[encoded data removed]",
      "text/plain": [
       "<Figure size 432x288 with 1 Axes>"
      ]
     },
     "metadata": {},
     "output_type": "display_data"
    }
   ],
   "source": [
    "# Answer\n",
    "alpha = 0.1\n",
    "s_0 = alpha*np.eye(2)\n",
    "s_0_inv = np.linalg.inv(s_0)\n",
    "beta = 5\n",
    "s_n = np.linalg.inv(s_0_inv + (beta*(phi(x))@phi(x).T))\n",
    "\n",
    "posterior_mean = s_n@(beta*phi(x)@y)\n",
    "posterior_mean\n",
    "y_pred = phi(x).T@posterior_mean\n",
    "\n",
    "\n",
    "fig, ax = plt.subplots()\n",
    "ax.scatter(x,y)\n",
    "ax.scatter(x, y_pred)"
   ]
  },
  {
   "cell_type": "markdown",
   "id": "5dde58fe-0905-4fdc-95e0-19fd550575d3",
   "metadata": {},
   "source": [
    "## Question 4\n",
    ">Compute the standard deviation $\\sigma_N(x_\\text{new})$ of $y_\\text{new} | x_\\text{new}$ and illustrate the predictive uncertainty by plotting a shaded region, that spans $\\sigma_N(x')$ either side of $\\hat{y}^{\\mathcal{D}}(x')$."
   ]
  },
  {
   "cell_type": "code",
   "execution_count": 5,
   "id": "51511f69-62d0-4ae8-837b-3757e5d4db93",
   "metadata": {},
   "outputs": [],
   "source": [
    "# Answer"
   ]
  }
 ],
 "metadata": {
  "kernelspec": {
   "display_name": "Python 3.9.13 ('bikes-ramp')",
   "language": "python",
   "name": "python3"
  },
  "language_info": {
   "codemirror_mode": {
    "name": "ipython",
    "version": 3
   },
   "file_extension": ".py",
   "mimetype": "text/x-python",
   "name": "python",
   "nbconvert_exporter": "python",
   "pygments_lexer": "ipython3",
   "version": "3.9.13"
  },
  "vscode": {
   "interpreter": {
    "hash": "19e4594f2c0ff2095ed648686a863b7d126c146b68c5a26e6f85cf4207a969a9"
   }
  }
 },
 "nbformat": 4,
 "nbformat_minor": 5
}
